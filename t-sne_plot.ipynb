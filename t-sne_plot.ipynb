{
 "cells": [
  {
   "cell_type": "code",
   "execution_count": null,
   "metadata": {},
   "outputs": [],
   "source": [
    "import numpy as np\n",
    "import pandas as pd\n",
    "\n",
    "from sklearn.manifold import TSNE\n",
    "import matplotlib.pyplot as plt\n",
    "import seaborn as sns\n",
    "\n",
    "#SL=300 with 50% Overlap\n",
    "df=pd.read_csv(\"../input/200dataset/EMGNEMG_ANOVA_FS_200.csv\")\n",
    "X=df.drop([\"Label\"],axis=1)\n",
    "y=df[\"Label\"]\n",
    "\n",
    "str=\".,ov^<>12348pP*hH+xXDd|_\"\n",
    "len(str)\n",
    "\n",
    "marker=[i for i in str]\n",
    "marker.append('$y$')\n",
    "marker.append('$z$')\n",
    "marker\n",
    "# performs t-sne with different perplexity values and their repective plots..\n",
    "\n",
    "def perform_tsne(X_data, y_data, perplexities, n_iter=1000, img_name_prefix='t-sne'):\n",
    "        \n",
    "    for index,perplexity in enumerate(perplexities):\n",
    "        # perform t-sne\n",
    "        print('\\nPerforming tsne with perplexity {} and with {} iterations at max'.format(perplexity, n_iter))\n",
    "        X_reduced = TSNE(verbose=2, perplexity=perplexity).fit_transform(X_data)\n",
    "        print('Done..')\n",
    "        \n",
    "        # prepare the data for seaborn         \n",
    "        print('Creating plot for this t-sne visualization..')\n",
    "        df = pd.DataFrame({'x':X_reduced[:,0], 'y':X_reduced[:,1] ,'label':y_data})\n",
    "        \n",
    "        # draw the plot in appropriate place in the grid\n",
    "        sns.set_style(\"darkgrid\")\n",
    "        sns.lmplot(data=df, x='x', y='y', hue='label', fit_reg=False, height=8,markers=marker,palette=\"Set1\")\n",
    "        plt.title(\"Perplexity : {} and max_iter : {}\".format(perplexity, n_iter),size=25,weight=\"bold\")\n",
    "        img_name = img_name_prefix + '_perp_{}_iter_{}.png'.format(perplexity, n_iter)\n",
    "        print('Saving this plot as image in present working directory...')\n",
    "        plt.savefig(img_name)\n",
    "        plt.show()\n",
    "        print('Done!')\n",
    "\n",
    "\n",
    "perform_tsne(X_data = X,y_data=y, perplexities =[2,5,10,20,50])   "
   ]
  },
  {
   "cell_type": "markdown",
   "metadata": {},
   "source": [
    "About T-SNE(T-Distributed Stochastic Neighbour Embedding)::\n",
    "\n"
   ]
  }
 ],
 "metadata": {
  "kernelspec": {
   "display_name": "Python 3.9.7 ('base')",
   "language": "python",
   "name": "python3"
  },
  "language_info": {
   "name": "python",
   "version": "3.9.7"
  },
  "orig_nbformat": 4,
  "vscode": {
   "interpreter": {
    "hash": "b3eff57f1b29dfdd788faddb90ebd9222db114d636e87b8fde724656933d5975"
   }
  }
 },
 "nbformat": 4,
 "nbformat_minor": 2
}
